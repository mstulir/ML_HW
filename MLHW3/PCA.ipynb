{
 "cells": [
  {
   "cell_type": "code",
   "execution_count": 1,
   "id": "81367211",
   "metadata": {},
   "outputs": [],
   "source": [
    "import numpy as np\n",
    "from PIL import Image\n",
    "from sklearn.decomposition import PCA"
   ]
  },
  {
   "cell_type": "code",
   "execution_count": 2,
   "id": "4aacd411",
   "metadata": {},
   "outputs": [],
   "source": [
    "a = Image.open('data/20180108_171224.jpg').convert('RGB')"
   ]
  },
  {
   "cell_type": "code",
   "execution_count": 3,
   "id": "191a6853",
   "metadata": {},
   "outputs": [],
   "source": [
    "b = np.array(a)\n",
    "c = b.astype('float') / 255."
   ]
  },
  {
   "cell_type": "code",
   "execution_count": 4,
   "id": "0be446cb",
   "metadata": {},
   "outputs": [],
   "source": [
    "x = c[:, :, 0]"
   ]
  },
  {
   "cell_type": "code",
   "execution_count": 6,
   "id": "9abdb763",
   "metadata": {},
   "outputs": [],
   "source": [
    "D=256"
   ]
  },
  {
   "cell_type": "code",
   "execution_count": 7,
   "id": "4193bcd7",
   "metadata": {},
   "outputs": [],
   "source": [
    "p = PCA(n_components=D, svd_solver='full')"
   ]
  },
  {
   "cell_type": "code",
   "execution_count": 8,
   "id": "27a565a8",
   "metadata": {},
   "outputs": [],
   "source": [
    "trans_pca = p.fit_transform(x)"
   ]
  },
  {
   "cell_type": "code",
   "execution_count": 10,
   "id": "24ab3eb7",
   "metadata": {},
   "outputs": [
    {
     "name": "stdout",
     "output_type": "stream",
     "text": [
      "(1494, 256)\n"
     ]
    }
   ],
   "source": [
    "print(trans_pca.shape)"
   ]
  },
  {
   "cell_type": "code",
   "execution_count": 11,
   "id": "632fc84b",
   "metadata": {},
   "outputs": [
    {
     "data": {
      "text/plain": [
       "array([[0.22201393, 0.23105126, 0.22931467, ..., 0.13202691, 0.1319811 ,\n",
       "        0.1351631 ],\n",
       "       [0.22944701, 0.23579143, 0.2308869 , ..., 0.13119234, 0.12993731,\n",
       "        0.13204622],\n",
       "       [0.22258257, 0.22878629, 0.22696886, ..., 0.12810704, 0.12976056,\n",
       "        0.13323513],\n",
       "       ...,\n",
       "       [0.45394077, 0.43136256, 0.44849281, ..., 0.40795559, 0.39152661,\n",
       "        0.3898724 ],\n",
       "       [0.41663748, 0.43657593, 0.39999376, ..., 0.38922431, 0.41526748,\n",
       "        0.45944502],\n",
       "       [0.43495748, 0.44377205, 0.45220165, ..., 0.38782873, 0.36367834,\n",
       "        0.37602626]])"
      ]
     },
     "execution_count": 11,
     "metadata": {},
     "output_type": "execute_result"
    }
   ],
   "source": [
    "p.inverse_transform(trans_pca)"
   ]
  },
  {
   "cell_type": "code",
   "execution_count": 12,
   "id": "89bcdc60",
   "metadata": {},
   "outputs": [
    {
     "data": {
      "text/plain": [
       "array([[0.21960784, 0.23529412, 0.21960784, ..., 0.05098039, 0.11764706,\n",
       "        0.11372549],\n",
       "       [0.22745098, 0.25098039, 0.21960784, ..., 0.14509804, 0.17254902,\n",
       "        0.14509804],\n",
       "       [0.21568627, 0.23137255, 0.21568627, ..., 0.11764706, 0.11764706,\n",
       "        0.15686275],\n",
       "       ...,\n",
       "       [0.46666667, 0.42352941, 0.43137255, ..., 0.39607843, 0.38039216,\n",
       "        0.36078431],\n",
       "       [0.43529412, 0.45098039, 0.38431373, ..., 0.38823529, 0.41960784,\n",
       "        0.4745098 ],\n",
       "       [0.43921569, 0.44313725, 0.44313725, ..., 0.4       , 0.33333333,\n",
       "        0.35294118]])"
      ]
     },
     "execution_count": 12,
     "metadata": {},
     "output_type": "execute_result"
    }
   ],
   "source": [
    "x"
   ]
  },
  {
   "cell_type": "code",
   "execution_count": 13,
   "id": "890cda19",
   "metadata": {},
   "outputs": [
    {
     "data": {
      "text/plain": [
       "(1494, 2656)"
      ]
     },
     "execution_count": 13,
     "metadata": {},
     "output_type": "execute_result"
    }
   ],
   "source": [
    "x.shape"
   ]
  },
  {
   "cell_type": "code",
   "execution_count": 15,
   "id": "9b708b57",
   "metadata": {},
   "outputs": [],
   "source": [
    "M = np.mean(x, axis=0)\n",
    "X_centered=x-M\n",
    "cov=np.cov(X_centered , rowvar=False)\n",
    "e,v=np.linalg.eig(cov)"
   ]
  },
  {
   "cell_type": "code",
   "execution_count": 16,
   "id": "6d93dfe8",
   "metadata": {},
   "outputs": [],
   "source": [
    "v=v[:,:D]"
   ]
  },
  {
   "cell_type": "code",
   "execution_count": 17,
   "id": "9cc88c23",
   "metadata": {},
   "outputs": [
    {
     "data": {
      "text/plain": [
       "(2656, 256)"
      ]
     },
     "execution_count": 17,
     "metadata": {},
     "output_type": "execute_result"
    }
   ],
   "source": [
    "v.shape"
   ]
  },
  {
   "cell_type": "code",
   "execution_count": 19,
   "id": "abe5dedb",
   "metadata": {},
   "outputs": [],
   "source": [
    "P = np.dot(v.T,X_centered.T).T\n",
    "result = np.dot(P,v.T)+M"
   ]
  },
  {
   "cell_type": "code",
   "execution_count": 20,
   "id": "737f9093",
   "metadata": {},
   "outputs": [
    {
     "data": {
      "text/plain": [
       "array([[0.21696075+0.j, 0.23074747+0.j, 0.22901743+0.j, ...,\n",
       "        0.13031735+0.j, 0.13233233+0.j, 0.13480434+0.j],\n",
       "       [0.22879373+0.j, 0.23542117+0.j, 0.23114086+0.j, ...,\n",
       "        0.13135089+0.j, 0.12988209+0.j, 0.13319493+0.j],\n",
       "       [0.21995797+0.j, 0.22850247+0.j, 0.22691021+0.j, ...,\n",
       "        0.12735551+0.j, 0.12991321+0.j, 0.13339289+0.j],\n",
       "       ...,\n",
       "       [0.46456884+0.j, 0.43420877+0.j, 0.44968133+0.j, ...,\n",
       "        0.4104256 +0.j, 0.39110122+0.j, 0.39107252+0.j],\n",
       "       [0.42843412+0.j, 0.43526034+0.j, 0.39963635+0.j, ...,\n",
       "        0.39394906+0.j, 0.41423859+0.j, 0.45806192+0.j],\n",
       "       [0.42849036+0.j, 0.44404317+0.j, 0.45191011+0.j, ...,\n",
       "        0.38526538+0.j, 0.36429116+0.j, 0.3748925 +0.j]])"
      ]
     },
     "execution_count": 20,
     "metadata": {},
     "output_type": "execute_result"
    }
   ],
   "source": [
    "result"
   ]
  },
  {
   "cell_type": "code",
   "execution_count": 22,
   "id": "37abab49",
   "metadata": {},
   "outputs": [
    {
     "data": {
      "text/plain": [
       "dtype('complex128')"
      ]
     },
     "execution_count": 22,
     "metadata": {},
     "output_type": "execute_result"
    }
   ],
   "source": [
    "result.dtype"
   ]
  },
  {
   "cell_type": "code",
   "execution_count": 23,
   "id": "3ef9d3a2",
   "metadata": {},
   "outputs": [
    {
     "name": "stderr",
     "output_type": "stream",
     "text": [
      "C:\\Users\\madis\\AppData\\Local\\Temp\\ipykernel_31240\\3660747082.py:1: ComplexWarning: Casting complex values to real discards the imaginary part\n",
      "  result = result.astype('float') / 255.\n"
     ]
    }
   ],
   "source": [
    "result = result.astype('float') / 255."
   ]
  },
  {
   "cell_type": "code",
   "execution_count": 24,
   "id": "f474ab1f",
   "metadata": {},
   "outputs": [
    {
     "data": {
      "text/plain": [
       "array([[0.00085083, 0.00090489, 0.00089811, ..., 0.00051105, 0.00051895,\n",
       "        0.00052864],\n",
       "       [0.00089723, 0.00092322, 0.00090643, ..., 0.0005151 , 0.00050934,\n",
       "        0.00052233],\n",
       "       [0.00086258, 0.00089609, 0.00088984, ..., 0.00049943, 0.00050946,\n",
       "        0.00052311],\n",
       "       ...,\n",
       "       [0.00182184, 0.00170278, 0.00176346, ..., 0.00160951, 0.00153373,\n",
       "        0.00153362],\n",
       "       [0.00168013, 0.0017069 , 0.0015672 , ..., 0.0015449 , 0.00162447,\n",
       "        0.00179632],\n",
       "       [0.00168035, 0.00174135, 0.0017722 , ..., 0.00151084, 0.00142859,\n",
       "        0.00147017]])"
      ]
     },
     "execution_count": 24,
     "metadata": {},
     "output_type": "execute_result"
    }
   ],
   "source": [
    "result"
   ]
  },
  {
   "cell_type": "code",
   "execution_count": 25,
   "id": "ab859209",
   "metadata": {},
   "outputs": [
    {
     "data": {
      "text/plain": [
       "array([[-9.6601395 +0.j, -3.14763816+0.j, -1.11324615+0.j, ...,\n",
       "         0.03656577+0.j,  0.05012465+0.j, -0.02197044+0.j],\n",
       "       [-9.70180808+0.j, -3.12150319+0.j, -1.08062501+0.j, ...,\n",
       "         0.03789972+0.j, -0.02404751+0.j, -0.03060012+0.j],\n",
       "       [-9.68730971+0.j, -3.13497298+0.j, -1.0943715 +0.j, ...,\n",
       "         0.02926501+0.j,  0.01616899+0.j, -0.01422837+0.j],\n",
       "       ...,\n",
       "       [ 1.40815179+0.j,  1.78044115+0.j,  0.21813136+0.j, ...,\n",
       "        -0.08835293+0.j, -0.12426466+0.j, -0.11632047+0.j],\n",
       "       [ 1.38156188+0.j,  1.79575678+0.j,  0.24022309+0.j, ...,\n",
       "        -0.11987628+0.j, -0.05228392+0.j, -0.04057691+0.j],\n",
       "       [ 1.46764182+0.j,  1.86854632+0.j,  0.25073715+0.j, ...,\n",
       "         0.02699823+0.j,  0.06904081+0.j,  0.01272055+0.j]])"
      ]
     },
     "execution_count": 25,
     "metadata": {},
     "output_type": "execute_result"
    }
   ],
   "source": [
    "P"
   ]
  },
  {
   "cell_type": "code",
   "execution_count": 26,
   "id": "a9f0273a",
   "metadata": {},
   "outputs": [
    {
     "data": {
      "text/plain": [
       "array([[-0.00391381+0.j,  0.02374649+0.j,  0.04056908+0.j, ...,\n",
       "        -0.04595201+0.j, -0.0529401 +0.j, -0.01273629+0.j],\n",
       "       [-0.0039033 +0.j,  0.02319878+0.j,  0.04066721+0.j, ...,\n",
       "        -0.01879961+0.j, -0.01357445+0.j,  0.02246233+0.j],\n",
       "       [-0.00390329+0.j,  0.02322274+0.j,  0.04050338+0.j, ...,\n",
       "        -0.00025335+0.j, -0.00968579+0.j, -0.0047228 +0.j],\n",
       "       ...,\n",
       "       [ 0.02460868+0.j, -0.00113472+0.j, -0.00798455+0.j, ...,\n",
       "        -0.00373048+0.j, -0.01474041+0.j, -0.00145578+0.j],\n",
       "       [ 0.02476221+0.j, -0.00117491+0.j, -0.00809524+0.j, ...,\n",
       "        -0.00024272+0.j,  0.00342016+0.j, -0.02120852+0.j],\n",
       "       [ 0.02467908+0.j, -0.00104292+0.j, -0.00776084+0.j, ...,\n",
       "         0.01753293+0.j, -0.02508718+0.j, -0.03918847+0.j]])"
      ]
     },
     "execution_count": 26,
     "metadata": {},
     "output_type": "execute_result"
    }
   ],
   "source": [
    "v"
   ]
  },
  {
   "cell_type": "code",
   "execution_count": 27,
   "id": "457a83f2",
   "metadata": {},
   "outputs": [
    {
     "data": {
      "text/plain": [
       "(2656,)"
      ]
     },
     "execution_count": 27,
     "metadata": {},
     "output_type": "execute_result"
    }
   ],
   "source": [
    "M.shape"
   ]
  },
  {
   "cell_type": "code",
   "execution_count": 28,
   "id": "7e1f835b",
   "metadata": {},
   "outputs": [],
   "source": [
    "ll=5"
   ]
  },
  {
   "cell_type": "code",
   "execution_count": 29,
   "id": "e3ff6e18",
   "metadata": {},
   "outputs": [
    {
     "data": {
      "text/plain": [
       "array(5)"
      ]
     },
     "execution_count": 29,
     "metadata": {},
     "output_type": "execute_result"
    }
   ],
   "source": [
    "np.array(ll)"
   ]
  },
  {
   "cell_type": "code",
   "execution_count": null,
   "id": "41d9e060",
   "metadata": {},
   "outputs": [],
   "source": []
  }
 ],
 "metadata": {
  "kernelspec": {
   "display_name": "Python 3 (ipykernel)",
   "language": "python",
   "name": "python3"
  },
  "language_info": {
   "codemirror_mode": {
    "name": "ipython",
    "version": 3
   },
   "file_extension": ".py",
   "mimetype": "text/x-python",
   "name": "python",
   "nbconvert_exporter": "python",
   "pygments_lexer": "ipython3",
   "version": "3.9.12"
  }
 },
 "nbformat": 4,
 "nbformat_minor": 5
}
