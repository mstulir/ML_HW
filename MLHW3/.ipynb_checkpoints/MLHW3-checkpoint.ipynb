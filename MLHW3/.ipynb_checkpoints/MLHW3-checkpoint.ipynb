{
 "cells": [
  {
   "cell_type": "code",
   "execution_count": 1,
   "id": "8788e162",
   "metadata": {},
   "outputs": [],
   "source": [
    "import numpy as np"
   ]
  },
  {
   "cell_type": "code",
   "execution_count": 4,
   "id": "8935ca1e",
   "metadata": {},
   "outputs": [
    {
     "name": "stdout",
     "output_type": "stream",
     "text": [
      "Data shape: (879, 10)\n",
      "test_means shape:  (3, 10)\n",
      "init_covs shape: (10, 10)\n",
      "init_mix_props shape: (3,)\n"
     ]
    }
   ],
   "source": [
    "k=3\n",
    "data = np.loadtxt(\"hip1000.txt\", dtype=np.float32,delimiter=',')\n",
    "data=data[:10,].T\n",
    "test_means = np.loadtxt(\"test_mean.txt\")\n",
    "test_means=test_means[:10,].T\n",
    "print('Data shape:',data.shape)\n",
    "print('test_means shape: ',test_means.shape)\n",
    "\n",
    "init_cov=np.identity(10)\n",
    "init_covs=b = np.repeat(init_cov[np.newaxis,:, :], k, axis=0)\n",
    "print(\"init_covs shape:\",init_covs[0].shape)\n",
    "init_mix_props=np.array([0.3,0.3,0.4])\n",
    "print(\"init_mix_props shape:\",init_mix_props.shape)\n",
    "\n",
    "thres=0.001"
   ]
  },
  {
   "cell_type": "code",
   "execution_count": 3,
   "id": "2a60cdec",
   "metadata": {},
   "outputs": [
    {
     "data": {
      "text/plain": [
       "879"
      ]
     },
     "execution_count": 3,
     "metadata": {},
     "output_type": "execute_result"
    }
   ],
   "source": [
    "len(data)"
   ]
  },
  {
   "cell_type": "code",
   "execution_count": 47,
   "id": "5d9fa7e2",
   "metadata": {},
   "outputs": [],
   "source": [
    "def UpdateMeans(X, hidden_matrix):\n",
    "    \"\"\"\n",
    "    Returns the new means for the gaussian distributions given the data and the hidden matrix\n",
    "    Input:\n",
    "        X - A (n, d) numpy array\n",
    "        hidden_matrix - A (n, k) numpy array\n",
    "    Output:\n",
    "        new_means - A (k,d) numpy array\n",
    "    Hint:\n",
    "        - See equation in Lecture 10 pg 43\n",
    "    \"\"\"\n",
    "    means=np.zeros([3,10])\n",
    "    for j in range(len(hidden_matrix[0])):\n",
    "        num=0\n",
    "        for i in range(len(X)):\n",
    "            num+=hidden_matrix[i,j]*X[i]\n",
    "        denom=np.sum(hidden_matrix[:,j],axis=0)\n",
    "        means[j]=num/denom\n",
    "    return means"
   ]
  },
  {
   "cell_type": "code",
   "execution_count": 18,
   "id": "1878d5c0",
   "metadata": {},
   "outputs": [],
   "source": [
    "def HiddenMatrix(X, means, covs, mix_props):\n",
    "    \"\"\"\n",
    "    Computes the hidden matrix for the data. This function should also compute the log likelihood\n",
    "    Input:\n",
    "        X - An (n,d) numpy array\n",
    "        means - An (k,d) numpy array; the mean vector\n",
    "        covs - a (k,d,d) numpy arry; the covariance matrix\n",
    "        mix_props - a (k,) array; the mixing proportions\n",
    "    Output:\n",
    "        hidden_matrix - a (n,k) numpy array\n",
    "        ll - a scalar; the log likelihood\n",
    "    Hints:\n",
    "        - Construct an intermediate matrix of size (n,k). This matrix can be used to calculate the loglikelihood and the hidden matrix\n",
    "            - Element t_{i,j}, where i in {1,...,n} and j in {1,k}, should equal\n",
    "            P(X_i | c = j)P(c = j)\n",
    "        - Each rows of the hidden matrix should sum to 1\n",
    "            - Element h_{i,j}, where i in {1,...,n} and j in {1,k}, should equal\n",
    "                P(X_i | c = j)P(c = j) / (Sum_{l=1}^{k}(P(X_i | c = l)P(c = l)))\n",
    "    \"\"\"\n",
    "    n=X.shape[0]\n",
    "    k=means.shape[0]\n",
    "    mat=np.zeros([n,k])\n",
    "    sum=np.zeros([n])\n",
    "    for i in range(k):\n",
    "        col=MultiVarNormal(X,means[i],covs[i])*mix_props[i]\n",
    "        sum+=col\n",
    "        mat[:,i]=col\n",
    "    for i in range(k):\n",
    "        mat[:,i]=np.divide(mat[:,i],sum)\n",
    "\n",
    "    #log likelihood\n",
    "    ll=np.sum(np.log(sum))\n",
    "\n",
    "    return mat,ll"
   ]
  },
  {
   "cell_type": "code",
   "execution_count": null,
   "id": "b3cfffab",
   "metadata": {},
   "outputs": [],
   "source": []
  },
  {
   "cell_type": "code",
   "execution_count": 10,
   "id": "b0036f16",
   "metadata": {},
   "outputs": [],
   "source": [
    "def MultiVarNormal(x,mean,cov):\n",
    "    \"\"\"\n",
    "    MultiVarNormal implements the PDF for a mulitvariate gaussian distribution\n",
    "    (You can do one sample at a time or all at once)\n",
    "    Input:\n",
    "        x - An (d) numpy array\n",
    "            - Alternatively (n,d)\n",
    "        mean - An (d,) numpy array; the mean vector\n",
    "        cov - a (d,d) numpy arry; the covariance matrix\n",
    "    Output:\n",
    "        prob - a scaler\n",
    "            - Alternatively (n,)\n",
    "\n",
    "    Hints:\n",
    "        - Use np.linalg.inv to invert a matrix\n",
    "        - if you have a (1,1) you can extrect the scalar with .item(0) on the array\n",
    "            - this will likely only apply if you compute for one example at a time\n",
    "    \"\"\"\n",
    "    ans=np.empty(0)\n",
    "    for i in range(len(x)):\n",
    "        ans=np.append(ans,np.linalg.det(2*np.pi*cov)**(-1/2) * np.exp(-np.dot(np.dot((x[i]-mean).T,np.linalg.inv(cov)),(x[i]-mean))/2))\n",
    "\n",
    "    return ans"
   ]
  },
  {
   "cell_type": "code",
   "execution_count": 19,
   "id": "8d80ed16",
   "metadata": {},
   "outputs": [],
   "source": [
    "hm,ll=HiddenMatrix(data,test_means,init_covs,init_mix_props)"
   ]
  },
  {
   "cell_type": "code",
   "execution_count": 20,
   "id": "ac0d8cb8",
   "metadata": {},
   "outputs": [
    {
     "data": {
      "text/plain": [
       "(879, 3)"
      ]
     },
     "execution_count": 20,
     "metadata": {},
     "output_type": "execute_result"
    }
   ],
   "source": [
    "hm.shape"
   ]
  },
  {
   "cell_type": "code",
   "execution_count": 48,
   "id": "2a70015c",
   "metadata": {},
   "outputs": [],
   "source": [
    "new_means=UpdateMeans(data,hm)"
   ]
  },
  {
   "cell_type": "code",
   "execution_count": 49,
   "id": "2498d689",
   "metadata": {},
   "outputs": [
    {
     "data": {
      "text/plain": [
       "array([[ 0.28465405, -0.16012663,  0.36844918,  0.48696762,  0.44098637,\n",
       "        -0.00451463, -0.02923675,  0.0971624 ,  0.01369933, -0.01375269],\n",
       "       [-0.13362676,  0.00749772,  0.29198298, -0.0031347 ,  0.10026016,\n",
       "         0.05743081,  0.0447126 ,  0.01702186,  0.01329413,  0.03980293],\n",
       "       [-0.06412341, -0.08030574,  0.25116101,  0.0975931 ,  0.09765492,\n",
       "         0.01307363,  0.0198465 , -0.0118764 ,  0.01003435, -0.05251684]])"
      ]
     },
     "execution_count": 49,
     "metadata": {},
     "output_type": "execute_result"
    }
   ],
   "source": [
    "new_means"
   ]
  },
  {
   "cell_type": "code",
   "execution_count": 38,
   "id": "3c1a5a91",
   "metadata": {},
   "outputs": [
    {
     "data": {
      "text/plain": [
       "(3, 10)"
      ]
     },
     "execution_count": 38,
     "metadata": {},
     "output_type": "execute_result"
    }
   ],
   "source": [
    "new_means.shape"
   ]
  },
  {
   "cell_type": "code",
   "execution_count": 31,
   "id": "93d6f57c",
   "metadata": {},
   "outputs": [],
   "source": [
    "f=new_means[0,:]"
   ]
  },
  {
   "cell_type": "code",
   "execution_count": 32,
   "id": "02551bc0",
   "metadata": {},
   "outputs": [
    {
     "data": {
      "text/plain": [
       "array([ 76.08599854, -42.80070496,  98.48384094, 130.16297913,\n",
       "       117.87251282,  -1.20672965,  -7.81477499,  25.97081566,\n",
       "         3.66173267,  -3.67599702])"
      ]
     },
     "execution_count": 32,
     "metadata": {},
     "output_type": "execute_result"
    }
   ],
   "source": [
    "f"
   ]
  },
  {
   "cell_type": "code",
   "execution_count": 33,
   "id": "ee28e92b",
   "metadata": {},
   "outputs": [],
   "source": [
    "import matplotlib.pyplot as plt"
   ]
  },
  {
   "cell_type": "code",
   "execution_count": 34,
   "id": "17f9472d",
   "metadata": {},
   "outputs": [
    {
     "data": {
      "text/plain": [
       "Text(0.5, 0, 'Iteration')"
      ]
     },
     "execution_count": 34,
     "metadata": {},
     "output_type": "execute_result"
    },
    {
     "data": {
      "image/png": "[encoded data removed]",
      "text/plain": [
       "<Figure size 432x288 with 1 Axes>"
      ]
     },
     "metadata": {
      "needs_background": "light"
     },
     "output_type": "display_data"
    }
   ],
   "source": [
    "x_axis=np.arange(0, len(lls), 1, dtype=int)\n",
    "plt.scatter(x_axis,lls,s=20)\n",
    "plt.plot(x_axis,lls)\n",
    "plt.title(r'Log likelihood Over Iterations')\n",
    "plt.ylabel('Log likelihood Value')\n",
    "plt.xlabel('Iteration')\n",
    "plt.savefig('6a.png')"
   ]
  },
  {
   "cell_type": "code",
   "execution_count": 43,
   "id": "7ff8b69e",
   "metadata": {},
   "outputs": [],
   "source": [
    "denom=np.sum(hm[:,1], axis=0)"
   ]
  },
  {
   "cell_type": "code",
   "execution_count": 46,
   "id": "711b4cc2",
   "metadata": {},
   "outputs": [
    {
     "data": {
      "text/plain": [
       "(879,)"
      ]
     },
     "execution_count": 46,
     "metadata": {},
     "output_type": "execute_result"
    }
   ],
   "source": [
    "hm[:,1].shape"
   ]
  },
  {
   "cell_type": "code",
   "execution_count": 52,
   "id": "50d0e69c",
   "metadata": {},
   "outputs": [],
   "source": [
    "for j in range(len(hm[0])):\n",
    "        num=0\n",
    "        for i in range(len(data)):\n",
    "            num+=hm[i,j]*data[i]"
   ]
  },
  {
   "cell_type": "code",
   "execution_count": 54,
   "id": "6810e2c3",
   "metadata": {},
   "outputs": [
    {
     "data": {
      "text/plain": [
       "(10,)"
      ]
     },
     "execution_count": 54,
     "metadata": {},
     "output_type": "execute_result"
    }
   ],
   "source": [
    "num.shape"
   ]
  },
  {
   "cell_type": "code",
   "execution_count": 55,
   "id": "ac7dfb4f",
   "metadata": {},
   "outputs": [
    {
     "data": {
      "text/plain": [
       "array([-22.34205  , -27.980341 ,  87.510185 ,  34.003647 ,  34.02519  ,\n",
       "         4.555148 ,   6.9149714,  -4.138006 ,   3.4961965, -18.29806  ],\n",
       "      dtype=float32)"
      ]
     },
     "execution_count": 55,
     "metadata": {},
     "output_type": "execute_result"
    }
   ],
   "source": [
    "num"
   ]
  },
  {
   "cell_type": "code",
   "execution_count": 56,
   "id": "a77088d5",
   "metadata": {},
   "outputs": [
    {
     "data": {
      "text/plain": [
       "263.2844583933463"
      ]
     },
     "execution_count": 56,
     "metadata": {},
     "output_type": "execute_result"
    }
   ],
   "source": [
    "denom"
   ]
  },
  {
   "cell_type": "code",
   "execution_count": 57,
   "id": "48961d6a",
   "metadata": {},
   "outputs": [
    {
     "data": {
      "text/plain": [
       "array([-0.08485898, -0.10627419,  0.33237886,  0.12915175,  0.12923357,\n",
       "        0.01730124,  0.02626426, -0.01571687,  0.01327916, -0.0694992 ],\n",
       "      dtype=float32)"
      ]
     },
     "execution_count": 57,
     "metadata": {},
     "output_type": "execute_result"
    }
   ],
   "source": [
    "num/denom"
   ]
  },
  {
   "cell_type": "code",
   "execution_count": 58,
   "id": "bc46f34d",
   "metadata": {},
   "outputs": [
    {
     "data": {
      "text/plain": [
       "array([-0.08485898, -0.10627419,  0.33237886,  0.12915175,  0.12923357,\n",
       "        0.01730124,  0.02626426, -0.01571687,  0.01327916, -0.0694992 ],\n",
       "      dtype=float32)"
      ]
     },
     "execution_count": 58,
     "metadata": {},
     "output_type": "execute_result"
    }
   ],
   "source": [
    "np.divide(num,denom)"
   ]
  },
  {
   "cell_type": "code",
   "execution_count": 59,
   "id": "14c245c1",
   "metadata": {},
   "outputs": [
    {
     "data": {
      "text/plain": [
       "0.06844106463878327"
      ]
     },
     "execution_count": 59,
     "metadata": {},
     "output_type": "execute_result"
    }
   ],
   "source": [
    "18/263"
   ]
  },
  {
   "cell_type": "code",
   "execution_count": 60,
   "id": "839b8421",
   "metadata": {},
   "outputs": [
    {
     "data": {
      "text/plain": [
       "(879, 10)"
      ]
     },
     "execution_count": 60,
     "metadata": {},
     "output_type": "execute_result"
    }
   ],
   "source": [
    "data.shape"
   ]
  },
  {
   "cell_type": "code",
   "execution_count": 65,
   "id": "f9b81338",
   "metadata": {},
   "outputs": [
    {
     "data": {
      "text/plain": [
       "879"
      ]
     },
     "execution_count": 65,
     "metadata": {},
     "output_type": "execute_result"
    }
   ],
   "source": [
    "len(data[:,1])"
   ]
  },
  {
   "cell_type": "code",
   "execution_count": 66,
   "id": "2307f568",
   "metadata": {},
   "outputs": [
    {
     "data": {
      "text/plain": [
       "879"
      ]
     },
     "execution_count": 66,
     "metadata": {},
     "output_type": "execute_result"
    }
   ],
   "source": [
    "len(data)"
   ]
  },
  {
   "cell_type": "code",
   "execution_count": 68,
   "id": "b4fcc0e1",
   "metadata": {},
   "outputs": [
    {
     "data": {
      "text/plain": [
       "array([-1.3395804 ,  1.939029  ,  0.7944613 , -0.67668957,  0.7220599 ,\n",
       "        0.6504617 ,  1.7673988 , -0.37778595, -0.372824  , -0.5296666 ],\n",
       "      dtype=float32)"
      ]
     },
     "execution_count": 68,
     "metadata": {},
     "output_type": "execute_result"
    }
   ],
   "source": [
    "data[0]"
   ]
  },
  {
   "cell_type": "code",
   "execution_count": 69,
   "id": "522733c3",
   "metadata": {},
   "outputs": [
    {
     "ename": "NameError",
     "evalue": "name 'means' is not defined",
     "output_type": "error",
     "traceback": [
      "\u001b[1;31m---------------------------------------------------------------------------\u001b[0m",
      "\u001b[1;31mNameError\u001b[0m                                 Traceback (most recent call last)",
      "Input \u001b[1;32mIn [69]\u001b[0m, in \u001b[0;36m<cell line: 1>\u001b[1;34m()\u001b[0m\n\u001b[1;32m----> 1\u001b[0m new_covs\u001b[38;5;241m=\u001b[39mnp\u001b[38;5;241m.\u001b[39mzeros([\u001b[43mmeans\u001b[49m\u001b[38;5;241m.\u001b[39mshape[\u001b[38;5;241m0\u001b[39m],means\u001b[38;5;241m.\u001b[39mshape[\u001b[38;5;241m1\u001b[39m],means\u001b[38;5;241m.\u001b[39mshape[\u001b[38;5;241m1\u001b[39m]])\n",
      "\u001b[1;31mNameError\u001b[0m: name 'means' is not defined"
     ]
    }
   ],
   "source": [
    "new_covs=np.zeros([means.shape[0],means.shape[1],means.shape[1]])"
   ]
  },
  {
   "cell_type": "code",
   "execution_count": 70,
   "id": "e03ceba6",
   "metadata": {},
   "outputs": [],
   "source": [
    "k=3\n",
    "d=10\n",
    "new_covs=np.zeros([k,d,d])"
   ]
  },
  {
   "cell_type": "code",
   "execution_count": 71,
   "id": "713a3f47",
   "metadata": {},
   "outputs": [
    {
     "data": {
      "text/plain": [
       "(3, 10, 10)"
      ]
     },
     "execution_count": 71,
     "metadata": {},
     "output_type": "execute_result"
    }
   ],
   "source": [
    "new_covs.shape"
   ]
  },
  {
   "cell_type": "code",
   "execution_count": 73,
   "id": "29dafa24",
   "metadata": {},
   "outputs": [
    {
     "data": {
      "text/plain": [
       "array([[0., 0., 0., 0., 0., 0., 0., 0., 0., 0.],\n",
       "       [0., 0., 0., 0., 0., 0., 0., 0., 0., 0.],\n",
       "       [0., 0., 0., 0., 0., 0., 0., 0., 0., 0.],\n",
       "       [0., 0., 0., 0., 0., 0., 0., 0., 0., 0.],\n",
       "       [0., 0., 0., 0., 0., 0., 0., 0., 0., 0.],\n",
       "       [0., 0., 0., 0., 0., 0., 0., 0., 0., 0.],\n",
       "       [0., 0., 0., 0., 0., 0., 0., 0., 0., 0.],\n",
       "       [0., 0., 0., 0., 0., 0., 0., 0., 0., 0.],\n",
       "       [0., 0., 0., 0., 0., 0., 0., 0., 0., 0.],\n",
       "       [0., 0., 0., 0., 0., 0., 0., 0., 0., 0.]])"
      ]
     },
     "execution_count": 73,
     "metadata": {},
     "output_type": "execute_result"
    }
   ],
   "source": [
    "new_covs[0,:,:]"
   ]
  },
  {
   "cell_type": "code",
   "execution_count": 77,
   "id": "abffb3d1",
   "metadata": {},
   "outputs": [
    {
     "data": {
      "text/plain": [
       "(10, 10)"
      ]
     },
     "execution_count": 77,
     "metadata": {},
     "output_type": "execute_result"
    }
   ],
   "source": [
    "init_covs[0].shape"
   ]
  },
  {
   "cell_type": "code",
   "execution_count": 79,
   "id": "97ef78b5",
   "metadata": {},
   "outputs": [
    {
     "data": {
      "text/plain": [
       "(10,)"
      ]
     },
     "execution_count": 79,
     "metadata": {},
     "output_type": "execute_result"
    }
   ],
   "source": [
    "data[i].shape"
   ]
  },
  {
   "cell_type": "code",
   "execution_count": 80,
   "id": "00116d83",
   "metadata": {},
   "outputs": [
    {
     "data": {
      "text/plain": [
       "(10,)"
      ]
     },
     "execution_count": 80,
     "metadata": {},
     "output_type": "execute_result"
    }
   ],
   "source": [
    "test_means[0].shape"
   ]
  },
  {
   "cell_type": "code",
   "execution_count": 82,
   "id": "e0502eea",
   "metadata": {},
   "outputs": [
    {
     "data": {
      "text/plain": [
       "-0.1124565244615078"
      ]
     },
     "execution_count": 82,
     "metadata": {},
     "output_type": "execute_result"
    }
   ],
   "source": [
    "np.dot(test_means[0],data[0])"
   ]
  },
  {
   "cell_type": "code",
   "execution_count": 83,
   "id": "b6c924c8",
   "metadata": {},
   "outputs": [],
   "source": [
    "f=data[0]-test_means[0]"
   ]
  },
  {
   "cell_type": "code",
   "execution_count": 84,
   "id": "6b4d5ad3",
   "metadata": {},
   "outputs": [
    {
     "data": {
      "text/plain": [
       "array([-1.41608042,  2.02962898,  0.41956131, -0.95228957,  0.46085991,\n",
       "        0.62206167,  1.83239883, -0.44038595, -0.39612401, -0.5400666 ])"
      ]
     },
     "execution_count": 84,
     "metadata": {},
     "output_type": "execute_result"
    }
   ],
   "source": [
    "f"
   ]
  },
  {
   "cell_type": "code",
   "execution_count": 85,
   "id": "9ab14ea8",
   "metadata": {},
   "outputs": [
    {
     "data": {
      "text/plain": [
       "11.807128665983008"
      ]
     },
     "execution_count": 85,
     "metadata": {},
     "output_type": "execute_result"
    }
   ],
   "source": [
    "np.dot(f,f)"
   ]
  },
  {
   "cell_type": "code",
   "execution_count": 86,
   "id": "c0684e76",
   "metadata": {},
   "outputs": [
    {
     "data": {
      "text/plain": [
       "array([[-1.41608042],\n",
       "       [ 2.02962898],\n",
       "       [ 0.41956131],\n",
       "       [-0.95228957],\n",
       "       [ 0.46085991],\n",
       "       [ 0.62206167],\n",
       "       [ 1.83239883],\n",
       "       [-0.44038595],\n",
       "       [-0.39612401],\n",
       "       [-0.5400666 ]])"
      ]
     },
     "execution_count": 86,
     "metadata": {},
     "output_type": "execute_result"
    }
   ],
   "source": [
    "f.reshape((10,1))"
   ]
  },
  {
   "cell_type": "code",
   "execution_count": 88,
   "id": "8254d0b4",
   "metadata": {},
   "outputs": [],
   "source": [
    "q=np.dot(f.reshape((10,1)),f.reshape((10,1)).T)"
   ]
  },
  {
   "cell_type": "code",
   "execution_count": 89,
   "id": "619d69c5",
   "metadata": {},
   "outputs": [
    {
     "data": {
      "text/plain": [
       "(10, 10)"
      ]
     },
     "execution_count": 89,
     "metadata": {},
     "output_type": "execute_result"
    }
   ],
   "source": [
    "q.shape"
   ]
  },
  {
   "cell_type": "code",
   "execution_count": null,
   "id": "f6341a92",
   "metadata": {},
   "outputs": [],
   "source": []
  }
 ],
 "metadata": {
  "kernelspec": {
   "display_name": "Python 3 (ipykernel)",
   "language": "python",
   "name": "python3"
  },
  "language_info": {
   "codemirror_mode": {
    "name": "ipython",
    "version": 3
   },
   "file_extension": ".py",
   "mimetype": "text/x-python",
   "name": "python",
   "nbconvert_exporter": "python",
   "pygments_lexer": "ipython3",
   "version": "3.9.12"
  }
 },
 "nbformat": 4,
 "nbformat_minor": 5
}
